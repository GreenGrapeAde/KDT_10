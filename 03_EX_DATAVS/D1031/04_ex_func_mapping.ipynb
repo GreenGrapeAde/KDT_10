{
 "cells": [
  {
   "cell_type": "markdown",
   "metadata": {},
   "source": [
    "### 【 데이터응용 - 함수 매핑 】\n",
    "\n",
    "자료 > 02. 판다스 > 13. PANDAS_DAY06_데이터응용_메서드.pdf\n",
    "\n",
    "- pandas의 apply(), map(), pipe(), transform() \n",
    "- 모두 데이터를 함수에 전달해 변환하는 메서드\n",
    "- 적용 범위와 반환 형식이 모두 다름"
   ]
  },
  {
   "cell_type": "code",
   "execution_count": 1,
   "metadata": {},
   "outputs": [],
   "source": [
    "## 모듈 로딩\n",
    "import pandas as pd\n",
    "import numpy as np"
   ]
  },
  {
   "cell_type": "code",
   "execution_count": 2,
   "metadata": {},
   "outputs": [],
   "source": [
    "## 사용자 정의 함수\n",
    "def test(n):\n",
    "    print(f'test() - {type(n)}')\n",
    "    if isinstance(n, str):\n",
    "        return ord(n) if len(n) else 0\n",
    "    else:\n",
    "        return n"
   ]
  },
  {
   "cell_type": "markdown",
   "metadata": {},
   "source": [
    "[1] map() — Series/DataFrame 원소 단위(element-wise) 변환<hr>\n",
    "- 원소별 1:1 매핑\n",
    "- 원소 단위 변환"
   ]
  },
  {
   "cell_type": "markdown",
   "metadata": {},
   "source": [
    "[1-1] Series.map(dict / 다른 Series / callable) : 직접 매개변수 전달 불가"
   ]
  },
  {
   "cell_type": "code",
   "execution_count": 3,
   "metadata": {},
   "outputs": [
    {
     "name": "stdout",
     "output_type": "stream",
     "text": [
      "0    True\n",
      "1    True\n",
      "2    True\n",
      "3    True\n",
      "dtype: bool\n",
      "0     1\n",
      "1     4\n",
      "2     9\n",
      "3    16\n",
      "dtype: int64\n",
      "0      one\n",
      "1      two\n",
      "2    three\n",
      "3      NaN\n",
      "dtype: object\n",
      "0    홀수\n",
      "1    짝수\n",
      "2    홀수\n",
      "3    짝수\n",
      "dtype: object\n",
      "test() - <class 'int'>\n",
      "test() - <class 'int'>\n",
      "test() - <class 'int'>\n",
      "test() - <class 'int'>\n",
      "0    1\n",
      "1    2\n",
      "2    3\n",
      "3    4\n",
      "dtype: int64\n"
     ]
    }
   ],
   "source": [
    "## Series 인스턴스 생성\n",
    "s = pd.Series([1, 2, 3, 4])\n",
    "\n",
    "## (1) 내장함수로 원소 처리\n",
    "print(s.map(bool))\n",
    "\n",
    "## (2) 람다/익명함수로 원소 처리\n",
    "print(s.map(lambda x: x**2))\n",
    "\n",
    "## (3) 딕셔너리로 매핑\n",
    "print(s.map({1:'one', 2:'two', 3:'three'}))\n",
    "\n",
    "## (4) Series에도 적용 가능 (조건부)\n",
    "print(s.map(lambda x: '짝수' if x % 2 == 0 else '홀수'))\n",
    "\n",
    "## (5) 사용자 정의 함수\n",
    "print(s.map(test))"
   ]
  },
  {
   "cell_type": "markdown",
   "metadata": {},
   "source": [
    "[1-2] DataFrame.map(callable, **kwargs)"
   ]
  },
  {
   "cell_type": "code",
   "execution_count": 4,
   "metadata": {},
   "outputs": [
    {
     "name": "stdout",
     "output_type": "stream",
     "text": [
      "\n",
      "[DF.map(bool)]=========\n",
      "      A      B      C\n",
      "0  True   True   True\n",
      "1  True  False   True\n",
      "2  True   True  False\n",
      "\n",
      "[DF.map(round, ndigits)]=========\n",
      "      A   B\n",
      "0  1.23  10\n",
      "1  2.98   0\n",
      "2  3.12  30\n",
      "\n",
      "[DF.map(lambda)]=========\n",
      "          A    B  C\n",
      "0  1.523990  100  A\n",
      "1  8.898289    0  F\n",
      "2  9.741889  900   \n",
      "\n",
      "[DF.map(사용자정의함수)]=========\n",
      "test() - <class 'float'>\n",
      "test() - <class 'float'>\n",
      "test() - <class 'float'>\n",
      "test() - <class 'int'>\n",
      "test() - <class 'int'>\n",
      "test() - <class 'int'>\n",
      "test() - <class 'str'>\n",
      "test() - <class 'str'>\n",
      "test() - <class 'str'>\n",
      "        A   B   C\n",
      "0  1.2345  10  65\n",
      "1  2.9830   0  70\n",
      "2  3.1212  30   0\n"
     ]
    }
   ],
   "source": [
    "## DF 인스턴스 생성\n",
    "df = pd.DataFrame({\n",
    "    'A': [1.2345, 2.983, 3.1212],\n",
    "    'B': [10, 0, 30],\n",
    "    'C': ['A','F','']\n",
    "})\n",
    "\n",
    "## (1) 내장함수\n",
    "print('\\n[DF.map(bool)]=========')\n",
    "print(df.map(bool))\n",
    "\n",
    "print('\\n[DF.map(round, ndigits)]=========')\n",
    "print(df.iloc[:, :-1].map(round, ndigits=2))\n",
    "\n",
    "## (2) 익명함수\n",
    "print('\\n[DF.map(lambda)]=========')\n",
    "print(df.map(lambda x: x if isinstance(x, str) else x**2))\n",
    "\n",
    "# (3) 사용자 정의 함수\n",
    "print('\\n[DF.map(사용자정의함수)]=========')\n",
    "print(df.map(test))"
   ]
  },
  {
   "cell_type": "markdown",
   "metadata": {},
   "source": [
    "[2] apply() — Series: 원소별, DataFrame: 행/열 단위 <hr>\n",
    "\n",
    "- 반환 크기는 자유 (축소 가능)\n",
    "- 행/열 단위 연산, 복잡한 함수 적용에 사용 "
   ]
  },
  {
   "cell_type": "markdown",
   "metadata": {},
   "source": [
    "[2-1] Series.apply(func, args, **kwargs) : 임의의 복잡 로직이나 추가 인자, 다중 결과 처리 시"
   ]
  },
  {
   "cell_type": "code",
   "execution_count": 5,
   "metadata": {},
   "outputs": [
    {
     "name": "stdout",
     "output_type": "stream",
     "text": [
      "0    75\n",
      "1    76\n",
      "2    77\n",
      "3    98\n",
      "dtype: int64\n",
      "0    대문자\n",
      "1    대문자\n",
      "2    대문자\n",
      "3    대문자\n",
      "dtype: object\n",
      "test() - <class 'str'>\n",
      "test() - <class 'str'>\n",
      "test() - <class 'str'>\n",
      "test() - <class 'str'>\n",
      "0    65\n",
      "1    66\n",
      "2    67\n",
      "3    88\n",
      "dtype: int64\n"
     ]
    }
   ],
   "source": [
    "## Series 인스턴스 생성\n",
    "s = pd.Series(['A', 'B', 'C', 'X'])\n",
    "\n",
    "## (1) 함수로 변환\n",
    "\n",
    "print(s.apply(lambda x: ord(x)+10))\n",
    "\n",
    "# (2) Series에도 적용 가능 (조건부)\n",
    "print(s.apply(lambda x: '대문자' if x.isupper() else '소문자'))\n",
    "\n",
    "# (3) 사용자 정의 함수\n",
    "print(s.apply(test))"
   ]
  },
  {
   "cell_type": "markdown",
   "metadata": {},
   "source": [
    "[2-2] DataFrame.apply(func, axis, result_type, args, **kwargs) : 열·행 단위 집계/가공"
   ]
  },
  {
   "cell_type": "code",
   "execution_count": 6,
   "metadata": {},
   "outputs": [],
   "source": [
    "## ----------------------------------------------------------\n",
    "## 함수기능 : 평균, 표준편차, 최고점 값을 리스트로 반환 \n",
    "## 함수이름 : row_stats\n",
    "## 매개변수 : r    - 행\n",
    "## 결과반환 : 행별 평균, 표준편차, 최대값\n",
    "## ----------------------------------------------------------\n",
    "def row_stats(r):\n",
    "    x = r[[\"A\",\"B\"]].to_numpy()\n",
    "    return [x.mean(), x.std(ddof=1), x.max()]\n",
    "\n",
    "## ----------------------------------------------------------\n",
    "## 함수기능 : 과락 계산해 행마다 '과락여부' 1개 값 반환\n",
    "## 함수이름 : has_fail\n",
    "## 매개변수 : r    - 행\n",
    "##           cut   - 과락 점수\n",
    "## 결과반환 : 행마다 '과락여부' 1개 값 반환\n",
    "## ----------------------------------------------------------\n",
    "def has_fail(r, cut=60):\n",
    "    return (r[[\"A\",\"B\"]] < cut).any()\n",
    "\n",
    "## ----------------------------------------------------------\n",
    "## 함수기능 : 지정된 값의 범위로 열 스케일링 \n",
    "## 함수이름 : scale_minmax\n",
    "## 매개변수 : col   - 열\n",
    "##           lo=0  - 최소값\n",
    "##           hi=1  - 최대값\n",
    "## 결과반환 : 열마다 스케일링 결과 \n",
    "## ----------------------------------------------------------\n",
    "def scale_minmax(col, lo=0, hi=1):\n",
    "    cmin, cmax = col.min(), col.max()\n",
    "    return (col - cmin) / (cmax - cmin) * (hi - lo) + lo"
   ]
  },
  {
   "cell_type": "code",
   "execution_count": 7,
   "metadata": {},
   "outputs": [
    {
     "name": "stdout",
     "output_type": "stream",
     "text": [
      "\n",
      "[DF.apply([np.sum, np.mean], axis=0)])=========\n",
      "          A           B\n",
      "sum   162.0  160.000000\n",
      "mean   54.0   53.333333\n",
      "\n",
      "[DF.apply(lambda) =========\n",
      "0   -72\n",
      "1    43\n",
      "2    27\n",
      "dtype: int64\n",
      "\n",
      "[DF.apply(row_stats,result_type=\"expand\") =========\n",
      "    avg        std   max\n",
      "0  46.0  50.911688  82.0\n",
      "1  48.5  30.405592  70.0\n",
      "2  66.5  19.091883  80.0\n",
      "\n",
      "[DF.apply(scale_minmax) =========\n",
      "            A           B\n",
      "0  100.000000   50.000000\n",
      "1   50.000000   92.857143\n",
      "2   73.636364  100.000000\n"
     ]
    }
   ],
   "source": [
    "## DF 인스턴스 생성\n",
    "df = pd.DataFrame({\n",
    "    'A': [82, 27, 53],\n",
    "    'B': [10, 70, 80]\n",
    "})\n",
    "\n",
    "## (1) DataFrame 전체 열별 합/평균\n",
    "print('\\n[DF.apply([np.sum, np.mean], axis=0)])=========')\n",
    "print(df.apply([np.sum, np.mean], axis=0))\n",
    "\n",
    "## (2) 각 행마다 A, B의 차 계산\n",
    "print('\\n[DF.apply(lambda) =========')\n",
    "print(df.apply(lambda row: row['B'] - row['A'], axis=1))\n",
    "\n",
    "## (3) 사용자정의함수 : 여러 값을 한 번에 반환 → 컬럼으로 확장\n",
    "print('\\n[DF.apply(row_stats,result_type=\"expand\") =========')\n",
    "resultDF = df.apply(row_stats, axis=1, result_type='expand')\n",
    "resultDF.columns = [\"avg\",\"std\",\"max\"]\n",
    "print(resultDF)\n",
    "\n",
    "\n",
    "## (4) 사용자정의함수 : 추가 인자/키워드 인자\n",
    "print('\\n[DF.apply(scale_minmax) =========')\n",
    "resultDF = df.apply(scale_minmax, lo=50, hi=100)\n",
    "print(resultDF)"
   ]
  },
  {
   "cell_type": "markdown",
   "metadata": {},
   "source": [
    "[3] transform() — GroupBy 또는 Series의 크기 동일 변환<hr>\n",
    "- 원본 DataFrame과 동일 (행 개수 유지) 변환\n",
    "- 그룹별 표준화, 평균 대비 비율 계산 등\n",
    "- Series/GroupBy에 적용"
   ]
  },
  {
   "cell_type": "code",
   "execution_count": 8,
   "metadata": {},
   "outputs": [
    {
     "name": "stdout",
     "output_type": "stream",
     "text": [
      "   지점   매출  매출비율\n",
      "0  서울  100   0.8\n",
      "1  서울  150   1.2\n",
      "2  부산  120   0.8\n",
      "3  부산  180   1.2\n",
      "4  대구   90   0.6\n",
      "5  대구  210   1.4\n"
     ]
    }
   ],
   "source": [
    "## DF 인스턴스 생성\n",
    "df2 = pd.DataFrame({\n",
    "    '지점': ['서울','서울','부산','부산','대구','대구'],\n",
    "    '매출': [100,150,120,180,90,210]\n",
    "})\n",
    "\n",
    "# 그룹별 평균 대비 비율\n",
    "df2['매출비율'] = df2.groupby('지점')['매출'].transform(lambda x: x / x.mean())\n",
    "print(df2)"
   ]
  },
  {
   "cell_type": "markdown",
   "metadata": {},
   "source": [
    "[4] pipe() - 함수형 체이닝(functional chaining)<hr>\n",
    "\n",
    "- DataFrame / Series 모두 사용\n",
    "- 변환 결과 크기 제약 없음"
   ]
  },
  {
   "cell_type": "code",
   "execution_count": 9,
   "metadata": {},
   "outputs": [
    {
     "data": {
      "text/html": [
       "<div>\n",
       "<style scoped>\n",
       "    .dataframe tbody tr th:only-of-type {\n",
       "        vertical-align: middle;\n",
       "    }\n",
       "\n",
       "    .dataframe tbody tr th {\n",
       "        vertical-align: top;\n",
       "    }\n",
       "\n",
       "    .dataframe thead th {\n",
       "        text-align: right;\n",
       "    }\n",
       "</style>\n",
       "<table border=\"1\" class=\"dataframe\">\n",
       "  <thead>\n",
       "    <tr style=\"text-align: right;\">\n",
       "      <th></th>\n",
       "      <th>A</th>\n",
       "      <th>B</th>\n",
       "      <th>ratio</th>\n",
       "    </tr>\n",
       "  </thead>\n",
       "  <tbody>\n",
       "    <tr>\n",
       "      <th>1</th>\n",
       "      <td>3</td>\n",
       "      <td>15</td>\n",
       "      <td>0.20</td>\n",
       "    </tr>\n",
       "    <tr>\n",
       "      <th>2</th>\n",
       "      <td>5</td>\n",
       "      <td>20</td>\n",
       "      <td>0.25</td>\n",
       "    </tr>\n",
       "  </tbody>\n",
       "</table>\n",
       "</div>"
      ],
      "text/plain": [
       "   A   B  ratio\n",
       "1  3  15   0.20\n",
       "2  5  20   0.25"
      ]
     },
     "metadata": {},
     "output_type": "display_data"
    }
   ],
   "source": [
    "## 사용자 정의 함수들\n",
    "def add_ratio(df):\n",
    "    df['ratio'] = df['A'] / df['B']\n",
    "    return df\n",
    "\n",
    "def filter_high(df):\n",
    "    return df[df['ratio'] > 0.1]\n",
    "\n",
    "## DF 인스턴스 생성\n",
    "df = pd.DataFrame({'A': [1, 3, 5], 'B': [10, 15, 20]})\n",
    "\n",
    "# 단계별 체인\n",
    "result = (\n",
    "    df\n",
    "    .pipe(add_ratio)\n",
    "    .pipe(filter_high)\n",
    ")\n",
    "\n",
    "display(result)\n"
   ]
  },
  {
   "cell_type": "code",
   "execution_count": 10,
   "metadata": {},
   "outputs": [
    {
     "data": {
      "text/plain": [
       "Index(['A', 'B', 'ratio'], dtype='object')"
      ]
     },
     "execution_count": 10,
     "metadata": {},
     "output_type": "execute_result"
    }
   ],
   "source": [
    "df.columns"
   ]
  },
  {
   "cell_type": "code",
   "execution_count": 11,
   "metadata": {},
   "outputs": [
    {
     "data": {
      "text/plain": [
       "['ratio', 'B', 'A']"
      ]
     },
     "execution_count": 11,
     "metadata": {},
     "output_type": "execute_result"
    }
   ],
   "source": [
    "sorted(df.columns, reverse=True)"
   ]
  },
  {
   "cell_type": "code",
   "execution_count": null,
   "metadata": {},
   "outputs": [],
   "source": []
  }
 ],
 "metadata": {
  "kernelspec": {
   "display_name": "DATA_311",
   "language": "python",
   "name": "python3"
  },
  "language_info": {
   "codemirror_mode": {
    "name": "ipython",
    "version": 3
   },
   "file_extension": ".py",
   "mimetype": "text/x-python",
   "name": "python",
   "nbconvert_exporter": "python",
   "pygments_lexer": "ipython3",
   "version": "3.11.13"
  }
 },
 "nbformat": 4,
 "nbformat_minor": 2
}
