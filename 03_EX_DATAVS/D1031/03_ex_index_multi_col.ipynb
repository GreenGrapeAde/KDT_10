{
 "cells": [
  {
   "cell_type": "markdown",
   "id": "8cd2e7b5",
   "metadata": {},
   "source": [
    "### [인덱스 다루기 - MultiIndex]\n",
    "- 기본 인덱스\n",
    "    * .set_index() <- 컬럼을 인덱스로 설정\n",
    "    * .reindex() <- 인덱스 재구성(일부 변경, 결측치 발생 가능)\n",
    "    * .reset_index() <- 위치 인덱스(RangeIndex)로 변경. 기존 인덱스는 컬럼 추가\n",
    "    * .iloc[위치인덱스] 속성 <- 판다스에서 DataFrame/Series에 데이터가 존재하는 위치 번호를 지정/정수\n",
    "    * .loc[] 속성 <- DataFrame/Series 생성 시 index, columns 매개변수로 지정한 인덱스들\n",
    "- 멀티 인덱스\n",
    "    * .xs() <- 인덱스 레벨에 따른 데이터 선택하는 메서드"
   ]
  },
  {
   "cell_type": "markdown",
   "id": "b3d4d785",
   "metadata": {},
   "source": [
    "[1] 모듈 로딩 및 데이터 준비 <hr>"
   ]
  },
  {
   "cell_type": "code",
   "execution_count": 1,
   "id": "bc60d870",
   "metadata": {},
   "outputs": [],
   "source": [
    "## 모듈 로딩\n",
    "import pandas as pd"
   ]
  },
  {
   "cell_type": "code",
   "execution_count": 3,
   "id": "b012c72f",
   "metadata": {},
   "outputs": [],
   "source": [
    "## 인덱서 생성\n",
    "columns_ = pd.MultiIndex.from_product([['math', 'eng'], \n",
    "                                       ['mid', 'final']], \n",
    "                                    names=['subject', 'exam'])\n",
    "## DF 생성\n",
    "dataDF = pd.DataFrame( [ [80, 90, 85, 95],\n",
    "                     [70, 88, 75, 93] ], \n",
    "                    columns=columns_ )"
   ]
  },
  {
   "cell_type": "code",
   "execution_count": 5,
   "id": "0c792cf7",
   "metadata": {},
   "outputs": [
    {
     "data": {
      "text/html": [
       "<div>\n",
       "<style scoped>\n",
       "    .dataframe tbody tr th:only-of-type {\n",
       "        vertical-align: middle;\n",
       "    }\n",
       "\n",
       "    .dataframe tbody tr th {\n",
       "        vertical-align: top;\n",
       "    }\n",
       "\n",
       "    .dataframe thead tr th {\n",
       "        text-align: left;\n",
       "    }\n",
       "</style>\n",
       "<table border=\"1\" class=\"dataframe\">\n",
       "  <thead>\n",
       "    <tr>\n",
       "      <th>subject</th>\n",
       "      <th colspan=\"2\" halign=\"left\">math</th>\n",
       "      <th colspan=\"2\" halign=\"left\">eng</th>\n",
       "    </tr>\n",
       "    <tr>\n",
       "      <th>exam</th>\n",
       "      <th>mid</th>\n",
       "      <th>final</th>\n",
       "      <th>mid</th>\n",
       "      <th>final</th>\n",
       "    </tr>\n",
       "  </thead>\n",
       "  <tbody>\n",
       "    <tr>\n",
       "      <th>0</th>\n",
       "      <td>80</td>\n",
       "      <td>90</td>\n",
       "      <td>85</td>\n",
       "      <td>95</td>\n",
       "    </tr>\n",
       "    <tr>\n",
       "      <th>1</th>\n",
       "      <td>70</td>\n",
       "      <td>88</td>\n",
       "      <td>75</td>\n",
       "      <td>93</td>\n",
       "    </tr>\n",
       "  </tbody>\n",
       "</table>\n",
       "</div>"
      ],
      "text/plain": [
       "subject math       eng      \n",
       "exam     mid final mid final\n",
       "0         80    90  85    95\n",
       "1         70    88  75    93"
      ]
     },
     "metadata": {},
     "output_type": "display_data"
    },
    {
     "data": {
      "text/plain": [
       "RangeIndex(start=0, stop=2, step=1)"
      ]
     },
     "metadata": {},
     "output_type": "display_data"
    },
    {
     "data": {
      "text/plain": [
       "MultiIndex([('math',   'mid'),\n",
       "            ('math', 'final'),\n",
       "            ( 'eng',   'mid'),\n",
       "            ( 'eng', 'final')],\n",
       "           names=['subject', 'exam'])"
      ]
     },
     "metadata": {},
     "output_type": "display_data"
    }
   ],
   "source": [
    "display(dataDF.head(), dataDF.index, dataDF.columns)"
   ]
  },
  {
   "cell_type": "code",
   "execution_count": 7,
   "id": "bef7fc0b",
   "metadata": {},
   "outputs": [
    {
     "name": "stdout",
     "output_type": "stream",
     "text": [
      "--------------------------------------\n",
      "type(mIDX): <class 'pandas.core.indexes.multi.MultiIndex'>\n",
      "names     : ['subject', 'exam']\n",
      "levels    : [['eng', 'math'], ['final', 'mid']]\n",
      "dtypes    : subject    object\n",
      "exam       object\n",
      "dtype: object\n",
      "nlevels   : 2개\n",
      "--------------------------------------\n",
      "levshape  : (2, 2)\n",
      "MultiIndex([('math',   'mid'),\n",
      "            ('math', 'final'),\n",
      "            ( 'eng',   'mid'),\n",
      "            ( 'eng', 'final')],\n",
      "           names=['subject', 'exam'])\n"
     ]
    }
   ],
   "source": [
    "## =========================================================\n",
    "## 멀티인덱스 속성 확인\n",
    "## =========================================================\n",
    "mIDX = dataDF.columns\n",
    "\n",
    "print('--------------------------------------')\n",
    "print(f'type(mIDX): {type(mIDX)}')\n",
    "print(f'names     : {mIDX.names}')\n",
    "print(f'levels    : {mIDX.levels}')\n",
    "print(f'dtypes    : {mIDX.dtypes}')\n",
    "print(f'nlevels   : {mIDX.nlevels}개')\n",
    "print('--------------------------------------')\n",
    "print(f'levshape  : {mIDX.levshape}')\n",
    "print(mIDX)"
   ]
  },
  {
   "cell_type": "code",
   "execution_count": null,
   "id": "7a02168b",
   "metadata": {},
   "outputs": [
    {
     "name": "stdout",
     "output_type": "stream",
     "text": [
      "\n",
      "dataDF[(\"math\", \"final\")]\n",
      "0    90\n",
      "1    88\n",
      "Name: (math, final), dtype: int64\n",
      "]\n",
      "\n",
      "dataDF[\"math\"]\n",
      "exam  mid  final\n",
      "0      80     90\n",
      "1      70     88\n",
      "]\n",
      "\n",
      "dataDF.xs(\"final\", level=1, axis=1)\n",
      "subject  math  eng\n",
      "0          90   95\n",
      "1          88   93\n",
      "]\n"
     ]
    }
   ],
   "source": [
    "## =========================================================\n",
    "## [2-1] 열/컬럼 데이터 선택\n",
    "## =========================================================\n",
    "## - 전체 열이름/열인덱스로 선택\n",
    "oneSR = dataDF[(\"math\", \"final\")]\n",
    "print(f'\\ndataDF[(\"math\", \"final\")]\\n{oneSR}\\n]')\n",
    "\n",
    "## - level0번 열이름/열인덱스로 선택 ==> level=0 동일한 모든 행\n",
    "level0 = dataDF[(\"math\")]\n",
    "print(f'\\ndataDF[\"math\"]\\n{level0}\\n]')\n",
    "\n",
    "## - level1번 열이름/열인덱스로 선택 ==> level=1 동일한 모든 행\n",
    "## - 컬럼 축 방향 설정 axis=1 또는 axis='columns'\n",
    "level1 = dataDF.xs(\"final\", level=1, axis=1)\n",
    "print(f'\\ndataDF.xs(\"final\", level=1, axis=1)\\n{level1}\\n]')"
   ]
  },
  {
   "cell_type": "code",
   "execution_count": null,
   "id": "74e69f94",
   "metadata": {},
   "outputs": [
    {
     "data": {
      "text/html": [
       "<div>\n",
       "<style scoped>\n",
       "    .dataframe tbody tr th:only-of-type {\n",
       "        vertical-align: middle;\n",
       "    }\n",
       "\n",
       "    .dataframe tbody tr th {\n",
       "        vertical-align: top;\n",
       "    }\n",
       "\n",
       "    .dataframe thead tr th {\n",
       "        text-align: left;\n",
       "    }\n",
       "</style>\n",
       "<table border=\"1\" class=\"dataframe\">\n",
       "  <thead>\n",
       "    <tr>\n",
       "      <th>subject</th>\n",
       "      <th colspan=\"3\" halign=\"left\">eng</th>\n",
       "      <th colspan=\"2\" halign=\"left\">math</th>\n",
       "    </tr>\n",
       "    <tr>\n",
       "      <th>exam</th>\n",
       "      <th>final</th>\n",
       "      <th>mid</th>\n",
       "      <th>test</th>\n",
       "      <th>final</th>\n",
       "      <th>mid</th>\n",
       "    </tr>\n",
       "  </thead>\n",
       "  <tbody>\n",
       "    <tr>\n",
       "      <th>0</th>\n",
       "      <td>95</td>\n",
       "      <td>85</td>\n",
       "      <td>0</td>\n",
       "      <td>90</td>\n",
       "      <td>80</td>\n",
       "    </tr>\n",
       "    <tr>\n",
       "      <th>1</th>\n",
       "      <td>93</td>\n",
       "      <td>75</td>\n",
       "      <td>0</td>\n",
       "      <td>88</td>\n",
       "      <td>70</td>\n",
       "    </tr>\n",
       "  </tbody>\n",
       "</table>\n",
       "</div>"
      ],
      "text/plain": [
       "subject   eng           math    \n",
       "exam    final mid test final mid\n",
       "0          95  85    0    90  80\n",
       "1          93  75    0    88  70"
      ]
     },
     "execution_count": 29,
     "metadata": {},
     "output_type": "execute_result"
    }
   ],
   "source": [
    "## ==============================================================\n",
    "## [2-2] 열 추가 => 사전식 정렬 추천/성능 느려지는 것 막기 위해서\n",
    "## ==============================================================\n",
    "## => 'test' 추가 후 알파벳 순으로 정렬\n",
    "dataDF[('eng', 'test')] = 0\n",
    "dataDF.sort_index(axis=1)"
   ]
  },
  {
   "cell_type": "code",
   "execution_count": 32,
   "id": "5d3ff73d",
   "metadata": {},
   "outputs": [
    {
     "data": {
      "text/html": [
       "<div>\n",
       "<style scoped>\n",
       "    .dataframe tbody tr th:only-of-type {\n",
       "        vertical-align: middle;\n",
       "    }\n",
       "\n",
       "    .dataframe tbody tr th {\n",
       "        vertical-align: top;\n",
       "    }\n",
       "\n",
       "    .dataframe thead th {\n",
       "        text-align: right;\n",
       "    }\n",
       "</style>\n",
       "<table border=\"1\" class=\"dataframe\">\n",
       "  <thead>\n",
       "    <tr style=\"text-align: right;\">\n",
       "      <th></th>\n",
       "      <th>0</th>\n",
       "      <th>1</th>\n",
       "      <th>2</th>\n",
       "      <th>3</th>\n",
       "      <th>4</th>\n",
       "    </tr>\n",
       "  </thead>\n",
       "  <tbody>\n",
       "    <tr>\n",
       "      <th>subject</th>\n",
       "      <td>math</td>\n",
       "      <td>math</td>\n",
       "      <td>eng</td>\n",
       "      <td>eng</td>\n",
       "      <td>eng</td>\n",
       "    </tr>\n",
       "    <tr>\n",
       "      <th>exam</th>\n",
       "      <td>mid</td>\n",
       "      <td>final</td>\n",
       "      <td>mid</td>\n",
       "      <td>final</td>\n",
       "      <td>test</td>\n",
       "    </tr>\n",
       "    <tr>\n",
       "      <th>0</th>\n",
       "      <td>80</td>\n",
       "      <td>90</td>\n",
       "      <td>85</td>\n",
       "      <td>95</td>\n",
       "      <td>0</td>\n",
       "    </tr>\n",
       "    <tr>\n",
       "      <th>1</th>\n",
       "      <td>70</td>\n",
       "      <td>88</td>\n",
       "      <td>75</td>\n",
       "      <td>93</td>\n",
       "      <td>0</td>\n",
       "    </tr>\n",
       "  </tbody>\n",
       "</table>\n",
       "</div>"
      ],
      "text/plain": [
       "            0      1    2      3     4\n",
       "subject  math   math  eng    eng   eng\n",
       "exam      mid  final  mid  final  test\n",
       "0          80     90   85     95     0\n",
       "1          70     88   75     93     0"
      ]
     },
     "execution_count": 32,
     "metadata": {},
     "output_type": "execute_result"
    }
   ],
   "source": [
    "## ==============================================================\n",
    "## [2-3] 열 인덱스 초기화\n",
    "## ==============================================================\n",
    "## -> reset_index(): 축/방향 설정 X, 행인덱스만 지원하는 메서드\n",
    "dataDF.T.reset_index().T"
   ]
  },
  {
   "cell_type": "code",
   "execution_count": 34,
   "id": "5b579262",
   "metadata": {},
   "outputs": [
    {
     "data": {
      "text/html": [
       "<div>\n",
       "<style scoped>\n",
       "    .dataframe tbody tr th:only-of-type {\n",
       "        vertical-align: middle;\n",
       "    }\n",
       "\n",
       "    .dataframe tbody tr th {\n",
       "        vertical-align: top;\n",
       "    }\n",
       "\n",
       "    .dataframe thead th {\n",
       "        text-align: right;\n",
       "    }\n",
       "</style>\n",
       "<table border=\"1\" class=\"dataframe\">\n",
       "  <thead>\n",
       "    <tr style=\"text-align: right;\">\n",
       "      <th>exam</th>\n",
       "      <th>mid</th>\n",
       "      <th>final</th>\n",
       "      <th>mid</th>\n",
       "      <th>final</th>\n",
       "      <th>test</th>\n",
       "    </tr>\n",
       "  </thead>\n",
       "  <tbody>\n",
       "    <tr>\n",
       "      <th>subject</th>\n",
       "      <td>math</td>\n",
       "      <td>math</td>\n",
       "      <td>eng</td>\n",
       "      <td>eng</td>\n",
       "      <td>eng</td>\n",
       "    </tr>\n",
       "    <tr>\n",
       "      <th>0</th>\n",
       "      <td>80</td>\n",
       "      <td>90</td>\n",
       "      <td>85</td>\n",
       "      <td>95</td>\n",
       "      <td>0</td>\n",
       "    </tr>\n",
       "    <tr>\n",
       "      <th>1</th>\n",
       "      <td>70</td>\n",
       "      <td>88</td>\n",
       "      <td>75</td>\n",
       "      <td>93</td>\n",
       "      <td>0</td>\n",
       "    </tr>\n",
       "  </tbody>\n",
       "</table>\n",
       "</div>"
      ],
      "text/plain": [
       "exam      mid final  mid final test\n",
       "subject  math  math  eng   eng  eng\n",
       "0          80    90   85    95    0\n",
       "1          70    88   75    93    0"
      ]
     },
     "execution_count": 34,
     "metadata": {},
     "output_type": "execute_result"
    }
   ],
   "source": [
    "dataDF.T.reset_index('subject').T"
   ]
  }
 ],
 "metadata": {
  "kernelspec": {
   "display_name": "DATA_311",
   "language": "python",
   "name": "python3"
  },
  "language_info": {
   "codemirror_mode": {
    "name": "ipython",
    "version": 3
   },
   "file_extension": ".py",
   "mimetype": "text/x-python",
   "name": "python",
   "nbconvert_exporter": "python",
   "pygments_lexer": "ipython3",
   "version": "3.11.13"
  }
 },
 "nbformat": 4,
 "nbformat_minor": 5
}
