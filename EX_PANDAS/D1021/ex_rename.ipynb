{
 "cells": [
  {
   "cell_type": "markdown",
   "id": "64eb8fb7",
   "metadata": {},
   "source": [
    "### [속성 변경 및 설정]\n",
    "- Series/DataFrame에는 많은 속성 존재\n",
    "- 일부는 읽기/변경 가능한 속성\n",
    "- 일부는 읽기만 가능한 속성 ==> setter 메서드 X"
   ]
  },
  {
   "cell_type": "markdown",
   "id": "af4dcffa",
   "metadata": {},
   "source": [
    "[읽기/변경 가능한 속성들]\n",
    "\n",
    "***"
   ]
  },
  {
   "cell_type": "code",
   "execution_count": null,
   "id": "423fabe8",
   "metadata": {},
   "outputs": [],
   "source": [
    "## 모듈 로딩\n",
    "import pandas as pd"
   ]
  },
  {
   "cell_type": "code",
   "execution_count": null,
   "id": "889791fc",
   "metadata": {},
   "outputs": [],
   "source": [
    "## 임의의 데이터\n",
    "data_dict = {'a': 10, 'b': 9, 'c': 22}\n",
    "\n",
    "## 시리즈 인스턴스 생성\n",
    "dataSR = pd.Series(data_dict)\n",
    "\n",
    "## 출력\n",
    "print(dataSR)\n",
    "print(dataSR.index)"
   ]
  },
  {
   "cell_type": "code",
   "execution_count": null,
   "id": "dda950f4",
   "metadata": {},
   "outputs": [],
   "source": [
    "## index 속성 변경\n",
    "## 'Index(['a', 'b', 'c'], dtype='object')\n",
    "## => 변경 '하나', '둘', '셋'\n",
    "dataSR.index = ['하나', '둘', '셋']\n",
    "\n",
    "## => 확인\n",
    "print(dataSR)\n",
    "print(dataSR.index)"
   ]
  },
  {
   "cell_type": "code",
   "execution_count": null,
   "id": "8513862b",
   "metadata": {},
   "outputs": [],
   "source": [
    "## -----------------------------------------------------\n",
    "## name 속성 변경\n",
    "## -----------------------------------------------------\n",
    "## 현재 name 속성 확인: None\n",
    "print(\"현재\", dataSR.name)\n",
    "\n",
    "## name 속성 설정 및 확인\n",
    "dataSR.name = '점수'\n",
    "\n",
    "print(\"변경:\", dataSR.name)\n",
    "display(dataSR)"
   ]
  },
  {
   "cell_type": "markdown",
   "id": "15b2faec",
   "metadata": {},
   "source": [
    "[읽기만 가능 / 변경 불가한 속성들] <hr>"
   ]
  },
  {
   "cell_type": "code",
   "execution_count": null,
   "id": "78ae8b1b",
   "metadata": {},
   "outputs": [],
   "source": [
    "## -----------------------------------------------------\n",
    "## dtype 속성 변경 X\n",
    "## -----------------------------------------------------\n",
    "## 현재 dtype 속성 확인 => 비공개 속성에서 getter 메서드 존재\n",
    "print(\"현재\", dataSR.dtype)\n",
    "\n",
    "## dtype 속성 설정 및 확인 => 비공개 속성에서 setter 메서드 미존재\n",
    "# dataSR.dtype = 'int16'  ## Error\n",
    "\n",
    "print(\"변경:\", dataSR.dtype)\n",
    "display(dataSR)"
   ]
  },
  {
   "cell_type": "code",
   "execution_count": null,
   "id": "6ffe677e",
   "metadata": {},
   "outputs": [],
   "source": [
    "## -----------------------------------------------------\n",
    "## values 속성 변경\n",
    "## -----------------------------------------------------\n",
    "## 현재 values 속성 확인 => 비공개 속성에서 getter 메서드 존재\n",
    "print(\"현재\", dataSR.values)\n",
    "\n",
    "## values 속성 설정 및 확인 => 비공개 속성에서 setter 메서드 미존재\n",
    "#dataSR.values = [0, 9, 11]  ## Error\n",
    "\n",
    "print(\"변경:\", dataSR.values)\n",
    "display(dataSR)\n",
    "print(dataSR)"
   ]
  },
  {
   "cell_type": "markdown",
   "id": "792f8bed",
   "metadata": {},
   "source": [
    "[DataFrame의 속성 읽기 / 변경]\n",
    "***"
   ]
  },
  {
   "cell_type": "code",
   "execution_count": null,
   "id": "18c0d3d3",
   "metadata": {},
   "outputs": [],
   "source": [
    "## 데이터\n",
    "data_dict = {'번호': [1, 5, 9], \n",
    "             '이름': ['홍', '마', '베']}\n",
    "\n",
    "## 데이터 프레임 생성 key => 컬럼명 => Value => 세로로\n",
    "dataDF = pd.DataFrame(data_dict)\n",
    "\n",
    "## 출력\n",
    "display(dataDF, dataDF.columns, dataDF.index)"
   ]
  },
  {
   "cell_type": "code",
   "execution_count": null,
   "id": "5fb986fa",
   "metadata": {},
   "outputs": [],
   "source": [
    "## -----------------------------------------------------\n",
    "## index 변경\n",
    "## -----------------------------------------------------\n",
    "print(\"현재\", dataDF.index)\n",
    "\n",
    "# 변경 [0, 1, 2] ==> ['사람1', '사람2', '사람3']\n",
    "dataDF.index = ['사람1', '사람2', '사람3']\n",
    "\n",
    "# 확인\n",
    "print(dataDF)"
   ]
  },
  {
   "cell_type": "code",
   "execution_count": null,
   "id": "8be481e7",
   "metadata": {},
   "outputs": [],
   "source": [
    "## -----------------------------------------------------\n",
    "## columns 변경\n",
    "## -----------------------------------------------------\n",
    "print(\"현재\", dataDF.columns)\n",
    "\n",
    "# 변경 ['번호', '이름'] ==> ['ID', 'NAME']\n",
    "dataDF.columns = ['ID', 'NAME']\n",
    "\n",
    "# 확인\n",
    "print(dataDF)"
   ]
  }
 ],
 "metadata": {
  "kernelspec": {
   "display_name": "DATA_311",
   "language": "python",
   "name": "python3"
  },
  "language_info": {
   "codemirror_mode": {
    "name": "ipython",
    "version": 3
   },
   "file_extension": ".py",
   "mimetype": "text/x-python",
   "name": "python",
   "nbconvert_exporter": "python",
   "pygments_lexer": "ipython3",
   "version": "3.11.13"
  }
 },
 "nbformat": 4,
 "nbformat_minor": 5
}
