{
 "cells": [
  {
   "cell_type": "markdown",
   "id": "08c8472b",
   "metadata": {},
   "source": [
    "### [속성 .iloc[] / .loc[]]\n",
    "- .iloc[]: 위치 기반 인덱스만 사용가능\n",
    "- .loc[]: 라벨/네임 인덱스만 사용 가능"
   ]
  },
  {
   "cell_type": "markdown",
   "id": "5ebdda0a",
   "metadata": {},
   "source": [
    "[설정 인덱스가 숫자인 경우] <hr>"
   ]
  },
  {
   "cell_type": "code",
   "execution_count": 2,
   "id": "0bce9596",
   "metadata": {},
   "outputs": [
    {
     "data": {
      "text/plain": [
       "1    99\n",
       "2    78\n",
       "dtype: int64"
      ]
     },
     "metadata": {},
     "output_type": "display_data"
    },
    {
     "name": "stdout",
     "output_type": "stream",
     "text": [
      "1번 원소 선택\n",
      "99 99 99\n",
      "2번 원소 선택\n",
      "78 78 78\n"
     ]
    }
   ],
   "source": [
    "import pandas as pd\n",
    "\n",
    "sr = pd.Series([99, 78], index=[1, 2])\n",
    "display(sr)\n",
    "\n",
    "print(\"1번 원소 선택\")\n",
    "print(sr[1], sr.loc[1], sr.iloc[0])\n",
    "\n",
    "print(\"2번 원소 선택\")\n",
    "print(sr[2], sr.loc[2], sr.iloc[1])"
   ]
  },
  {
   "cell_type": "markdown",
   "id": "461a5b1f",
   "metadata": {},
   "source": [
    "[설정 인덱스가 글자인 경우] <hr>"
   ]
  },
  {
   "cell_type": "code",
   "execution_count": 4,
   "id": "7c55d6f7",
   "metadata": {},
   "outputs": [
    {
     "data": {
      "text/plain": [
       "a    99\n",
       "b    78\n",
       "dtype: int64"
      ]
     },
     "metadata": {},
     "output_type": "display_data"
    },
    {
     "name": "stdout",
     "output_type": "stream",
     "text": [
      "1번 원소 선택\n",
      "99 99 99\n",
      "2번 원소 선택\n",
      "78 78 78\n"
     ]
    }
   ],
   "source": [
    "sr = pd.Series([99, 78], index=['a', 'b'])\n",
    "display(sr)\n",
    "\n",
    "print(\"1번 원소 선택\")\n",
    "print(sr['a'], sr.loc['a'], sr.iloc[0])\n",
    "\n",
    "print(\"2번 원소 선택\")\n",
    "print(sr['b'], sr.loc['b'], sr.iloc[1])"
   ]
  }
 ],
 "metadata": {
  "kernelspec": {
   "display_name": "DATA_311",
   "language": "python",
   "name": "python3"
  },
  "language_info": {
   "codemirror_mode": {
    "name": "ipython",
    "version": 3
   },
   "file_extension": ".py",
   "mimetype": "text/x-python",
   "name": "python",
   "nbconvert_exporter": "python",
   "pygments_lexer": "ipython3",
   "version": "3.11.13"
  }
 },
 "nbformat": 4,
 "nbformat_minor": 5
}
