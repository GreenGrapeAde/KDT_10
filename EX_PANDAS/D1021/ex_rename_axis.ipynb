{
 "cells": [
  {
   "cell_type": "markdown",
   "id": "64eb8fb7",
   "metadata": {},
   "source": [
    "### [축 이름 부분 변경]\n",
    "- Series/DataFrame에서 행과 열 방향 축 이름 변경\n",
    "- 메서드 : rename_axis(index, columns, ..., inplace=False)\n",
    "    * 행방향 축 이름 변경 시 => index 매개변수 사용\n",
    "    * 열방향 축 이름 변경 시 => columns 매개변수 사용\n",
    "    * 원본 변경 여부 => inplace 매개변수 사용\n",
    "    * 반환값 => None 또는 DataFrame/Series"
   ]
  },
  {
   "cell_type": "markdown",
   "id": "af4dcffa",
   "metadata": {},
   "source": [
    "[Series의 행 인덱스 축 이름 변경] <hr>"
   ]
  },
  {
   "cell_type": "code",
   "execution_count": 1,
   "id": "423fabe8",
   "metadata": {},
   "outputs": [],
   "source": [
    "## 모듈 로딩\n",
    "import pandas as pd"
   ]
  },
  {
   "cell_type": "code",
   "execution_count": 2,
   "id": "889791fc",
   "metadata": {},
   "outputs": [
    {
     "name": "stdout",
     "output_type": "stream",
     "text": [
      "a    10\n",
      "b     9\n",
      "c    22\n",
      "dtype: int64\n",
      "Index(['a', 'b', 'c'], dtype='object')\n"
     ]
    }
   ],
   "source": [
    "## 임의의 데이터\n",
    "data_dict = {'a': 10, 'b': 9, 'c': 22}\n",
    "\n",
    "## 시리즈 인스턴스 생성\n",
    "dataSR = pd.Series(data_dict)\n",
    "\n",
    "## 출력\n",
    "print(dataSR)\n",
    "print(dataSR.index)"
   ]
  },
  {
   "cell_type": "code",
   "execution_count": 17,
   "id": "dda950f4",
   "metadata": {},
   "outputs": [
    {
     "name": "stdout",
     "output_type": "stream",
     "text": [
      "현재: [Index(['a', 'b', 'c'], dtype='object')]\n",
      "변경된 데이터:\n",
      "[Index(['a', 'b', 'c'], dtype='object', name='알파벳')] --- \n",
      "기본 데이터: \n",
      "[Index(['a', 'b', 'c'], dtype='object')]\n"
     ]
    },
    {
     "data": {
      "text/plain": [
       "a    10\n",
       "b     9\n",
       "c    22\n",
       "dtype: int64"
      ]
     },
     "metadata": {},
     "output_type": "display_data"
    }
   ],
   "source": [
    "## -----------------------------------------------------\n",
    "## axes 축 변경\n",
    "## -----------------------------------------------------\n",
    "print(f'현재: {dataSR.axes}')\n",
    "\n",
    "## 축 이름 설정\n",
    "dataSR1 = dataSR.rename_axis(index='알파벳')\n",
    "\n",
    "## 확인\n",
    "print(f'변경된 데이터:\\n{dataSR1.axes} --- \\n기본 데이터: \\n{dataSR.axes}')\n",
    "#display(dataSR1)\n",
    "\n",
    "## 축 이름 제거\n",
    "dataSR1.rename_axis(index=None, inplace=True)\n",
    "display(dataSR1)"
   ]
  },
  {
   "cell_type": "markdown",
   "id": "dc40ea88",
   "metadata": {},
   "source": [
    "[DataFrame의 행/열 축 이름 변경] <hr>"
   ]
  },
  {
   "cell_type": "code",
   "execution_count": 3,
   "id": "44182221",
   "metadata": {},
   "outputs": [
    {
     "data": {
      "text/html": [
       "<div>\n",
       "<style scoped>\n",
       "    .dataframe tbody tr th:only-of-type {\n",
       "        vertical-align: middle;\n",
       "    }\n",
       "\n",
       "    .dataframe tbody tr th {\n",
       "        vertical-align: top;\n",
       "    }\n",
       "\n",
       "    .dataframe thead th {\n",
       "        text-align: right;\n",
       "    }\n",
       "</style>\n",
       "<table border=\"1\" class=\"dataframe\">\n",
       "  <thead>\n",
       "    <tr style=\"text-align: right;\">\n",
       "      <th></th>\n",
       "      <th>번호</th>\n",
       "      <th>이름</th>\n",
       "    </tr>\n",
       "  </thead>\n",
       "  <tbody>\n",
       "    <tr>\n",
       "      <th>0</th>\n",
       "      <td>1</td>\n",
       "      <td>홍</td>\n",
       "    </tr>\n",
       "    <tr>\n",
       "      <th>1</th>\n",
       "      <td>5</td>\n",
       "      <td>마</td>\n",
       "    </tr>\n",
       "    <tr>\n",
       "      <th>2</th>\n",
       "      <td>9</td>\n",
       "      <td>베</td>\n",
       "    </tr>\n",
       "  </tbody>\n",
       "</table>\n",
       "</div>"
      ],
      "text/plain": [
       "   번호 이름\n",
       "0   1  홍\n",
       "1   5  마\n",
       "2   9  베"
      ]
     },
     "metadata": {},
     "output_type": "display_data"
    },
    {
     "data": {
      "text/plain": [
       "Index(['번호', '이름'], dtype='object')"
      ]
     },
     "metadata": {},
     "output_type": "display_data"
    },
    {
     "data": {
      "text/plain": [
       "RangeIndex(start=0, stop=3, step=1)"
      ]
     },
     "metadata": {},
     "output_type": "display_data"
    }
   ],
   "source": [
    "## 데이터\n",
    "data_dict = {'번호': [1, 5, 9], \n",
    "             '이름': ['홍', '마', '베']}\n",
    "\n",
    "## 데이터 프레임 생성 key => 컬럼명 => Value => 세로로\n",
    "dataDF = pd.DataFrame(data_dict)\n",
    "\n",
    "## 출력\n",
    "display(dataDF, dataDF.columns, dataDF.index)"
   ]
  },
  {
   "cell_type": "code",
   "execution_count": 14,
   "id": "c8727259",
   "metadata": {},
   "outputs": [
    {
     "name": "stdout",
     "output_type": "stream",
     "text": [
      "현재: RangeIndex(start=0, stop=3, step=1)\n",
      "변경: RangeIndex(start=0, stop=3, step=1, name='no')\n"
     ]
    },
    {
     "data": {
      "text/html": [
       "<div>\n",
       "<style scoped>\n",
       "    .dataframe tbody tr th:only-of-type {\n",
       "        vertical-align: middle;\n",
       "    }\n",
       "\n",
       "    .dataframe tbody tr th {\n",
       "        vertical-align: top;\n",
       "    }\n",
       "\n",
       "    .dataframe thead th {\n",
       "        text-align: right;\n",
       "    }\n",
       "</style>\n",
       "<table border=\"1\" class=\"dataframe\">\n",
       "  <thead>\n",
       "    <tr style=\"text-align: right;\">\n",
       "      <th></th>\n",
       "      <th>번호</th>\n",
       "      <th>이름</th>\n",
       "    </tr>\n",
       "    <tr>\n",
       "      <th>no</th>\n",
       "      <th></th>\n",
       "      <th></th>\n",
       "    </tr>\n",
       "  </thead>\n",
       "  <tbody>\n",
       "    <tr>\n",
       "      <th>0</th>\n",
       "      <td>1</td>\n",
       "      <td>홍</td>\n",
       "    </tr>\n",
       "    <tr>\n",
       "      <th>1</th>\n",
       "      <td>5</td>\n",
       "      <td>마</td>\n",
       "    </tr>\n",
       "    <tr>\n",
       "      <th>2</th>\n",
       "      <td>9</td>\n",
       "      <td>베</td>\n",
       "    </tr>\n",
       "  </tbody>\n",
       "</table>\n",
       "</div>"
      ],
      "text/plain": [
       "    번호 이름\n",
       "no       \n",
       "0    1  홍\n",
       "1    5  마\n",
       "2    9  베"
      ]
     },
     "metadata": {},
     "output_type": "display_data"
    }
   ],
   "source": [
    "## -----------------------------------------------------\n",
    "## 행 인덱스 축 이름 변경\n",
    "## -----------------------------------------------------\n",
    "print(f\"현재: {dataDF.axes[0]}\")\n",
    "\n",
    "## NONE => no\n",
    "dataDF.rename_axis(index='no', inplace=True)\n",
    "\n",
    "print(f'변경: {dataDF.axes[0]}')\n",
    "display(dataDF)"
   ]
  },
  {
   "cell_type": "code",
   "execution_count": 4,
   "id": "8d2af01d",
   "metadata": {},
   "outputs": [
    {
     "name": "stdout",
     "output_type": "stream",
     "text": [
      "현재: Index(['번호', '이름'], dtype='object')\n",
      "변경: Index(['번호', '이름'], dtype='object', name='정보')\n"
     ]
    },
    {
     "data": {
      "text/html": [
       "<div>\n",
       "<style scoped>\n",
       "    .dataframe tbody tr th:only-of-type {\n",
       "        vertical-align: middle;\n",
       "    }\n",
       "\n",
       "    .dataframe tbody tr th {\n",
       "        vertical-align: top;\n",
       "    }\n",
       "\n",
       "    .dataframe thead th {\n",
       "        text-align: right;\n",
       "    }\n",
       "</style>\n",
       "<table border=\"1\" class=\"dataframe\">\n",
       "  <thead>\n",
       "    <tr style=\"text-align: right;\">\n",
       "      <th>정보</th>\n",
       "      <th>번호</th>\n",
       "      <th>이름</th>\n",
       "    </tr>\n",
       "  </thead>\n",
       "  <tbody>\n",
       "    <tr>\n",
       "      <th>0</th>\n",
       "      <td>1</td>\n",
       "      <td>홍</td>\n",
       "    </tr>\n",
       "    <tr>\n",
       "      <th>1</th>\n",
       "      <td>5</td>\n",
       "      <td>마</td>\n",
       "    </tr>\n",
       "    <tr>\n",
       "      <th>2</th>\n",
       "      <td>9</td>\n",
       "      <td>베</td>\n",
       "    </tr>\n",
       "  </tbody>\n",
       "</table>\n",
       "</div>"
      ],
      "text/plain": [
       "정보  번호 이름\n",
       "0    1  홍\n",
       "1    5  마\n",
       "2    9  베"
      ]
     },
     "metadata": {},
     "output_type": "display_data"
    }
   ],
   "source": [
    "## -----------------------------------------------------\n",
    "## 열 인덱스/컬럼즈 축 이름 변경\n",
    "## -----------------------------------------------------\n",
    "print(f\"현재: {dataDF.axes[1]}\")\n",
    "\n",
    "## NONE => no\n",
    "dataDF.rename_axis(columns='정보', inplace=True)\n",
    "\n",
    "print(f'변경: {dataDF.axes[1]}')\n",
    "display(dataDF)"
   ]
  }
 ],
 "metadata": {
  "kernelspec": {
   "display_name": "DATA_311",
   "language": "python",
   "name": "python3"
  },
  "language_info": {
   "codemirror_mode": {
    "name": "ipython",
    "version": 3
   },
   "file_extension": ".py",
   "mimetype": "text/x-python",
   "name": "python",
   "nbconvert_exporter": "python",
   "pygments_lexer": "ipython3",
   "version": "3.11.13"
  }
 },
 "nbformat": 4,
 "nbformat_minor": 5
}
