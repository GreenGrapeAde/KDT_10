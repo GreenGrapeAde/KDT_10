{
 "cells": [
  {
   "cell_type": "markdown",
   "id": "b4202b91",
   "metadata": {},
   "source": [
    "### 【ACCESSOR 접근자】\n",
    "- pandas에서 str 데이터, datetime 데이터에 간편한 처리 위해 제공\n",
    "- Series에 제공되는 기능\n",
    "- 종류\n",
    "    * str 데이터: Series.str 접근자\n",
    "    * datetime 데이터: Series.dt 접근자"
   ]
  },
  {
   "cell_type": "code",
   "execution_count": 1,
   "id": "1a2d8806",
   "metadata": {},
   "outputs": [],
   "source": [
    "import pandas as pd"
   ]
  },
  {
   "cell_type": "code",
   "execution_count": 2,
   "id": "dca7a2e6",
   "metadata": {},
   "outputs": [
    {
     "data": {
      "text/html": [
       "<div>\n",
       "<style scoped>\n",
       "    .dataframe tbody tr th:only-of-type {\n",
       "        vertical-align: middle;\n",
       "    }\n",
       "\n",
       "    .dataframe tbody tr th {\n",
       "        vertical-align: top;\n",
       "    }\n",
       "\n",
       "    .dataframe thead th {\n",
       "        text-align: right;\n",
       "    }\n",
       "</style>\n",
       "<table border=\"1\" class=\"dataframe\">\n",
       "  <thead>\n",
       "    <tr style=\"text-align: right;\">\n",
       "      <th></th>\n",
       "      <th>이름</th>\n",
       "      <th>댓글</th>\n",
       "    </tr>\n",
       "  </thead>\n",
       "  <tbody>\n",
       "    <tr>\n",
       "      <th>0</th>\n",
       "      <td>홍 길동</td>\n",
       "      <td>Good Luck</td>\n",
       "    </tr>\n",
       "    <tr>\n",
       "      <th>1</th>\n",
       "      <td>마 징가</td>\n",
       "      <td>Happy New Year</td>\n",
       "    </tr>\n",
       "    <tr>\n",
       "      <th>2</th>\n",
       "      <td>배 트맨</td>\n",
       "      <td>good day</td>\n",
       "    </tr>\n",
       "  </tbody>\n",
       "</table>\n",
       "</div>"
      ],
      "text/plain": [
       "     이름              댓글\n",
       "0  홍 길동       Good Luck\n",
       "1  마 징가  Happy New Year\n",
       "2  배 트맨        good day"
      ]
     },
     "execution_count": 2,
     "metadata": {},
     "output_type": "execute_result"
    }
   ],
   "source": [
    "## DF 인스턴스 생성\n",
    "dataDF = pd.DataFrame({'이름': ['홍 길동', '마 징가', '배 트맨'],\n",
    "                       '댓글': ['Good Luck', 'Happy New Year', 'good day']})\n",
    "dataDF"
   ]
  },
  {
   "cell_type": "code",
   "execution_count": 3,
   "id": "11730dc0",
   "metadata": {},
   "outputs": [
    {
     "name": "stderr",
     "output_type": "stream",
     "text": [
      "C:\\Users\\sante\\AppData\\Local\\Temp\\ipykernel_16128\\1786637980.py:7: FutureWarning: ChainedAssignmentError: behaviour will change in pandas 3.0!\n",
      "You are setting values through chained assignment. Currently this works in certain cases, but when using Copy-on-Write (which will become the default behaviour in pandas 3.0) this will never work to update the original DataFrame or Series, because the intermediate object on which we are setting values will behave as a copy.\n",
      "A typical example is when you are setting values in a column of a DataFrame, like:\n",
      "\n",
      "df[\"col\"][row_indexer] = value\n",
      "\n",
      "Use `df.loc[row_indexer, \"col\"] = values` instead, to perform the assignment in a single step and ensure this keeps updating the original `df`.\n",
      "\n",
      "See the caveats in the documentation: https://pandas.pydata.org/pandas-docs/stable/user_guide/indexing.html#returning-a-view-versus-a-copy\n",
      "\n",
      "  dataDF['댓글'][idx] = dataDF['댓글'][idx].lower()\n"
     ]
    },
    {
     "data": {
      "text/html": [
       "<div>\n",
       "<style scoped>\n",
       "    .dataframe tbody tr th:only-of-type {\n",
       "        vertical-align: middle;\n",
       "    }\n",
       "\n",
       "    .dataframe tbody tr th {\n",
       "        vertical-align: top;\n",
       "    }\n",
       "\n",
       "    .dataframe thead th {\n",
       "        text-align: right;\n",
       "    }\n",
       "</style>\n",
       "<table border=\"1\" class=\"dataframe\">\n",
       "  <thead>\n",
       "    <tr style=\"text-align: right;\">\n",
       "      <th></th>\n",
       "      <th>이름</th>\n",
       "      <th>댓글</th>\n",
       "    </tr>\n",
       "  </thead>\n",
       "  <tbody>\n",
       "    <tr>\n",
       "      <th>0</th>\n",
       "      <td>홍 길동</td>\n",
       "      <td>good luck</td>\n",
       "    </tr>\n",
       "    <tr>\n",
       "      <th>1</th>\n",
       "      <td>마 징가</td>\n",
       "      <td>happy new year</td>\n",
       "    </tr>\n",
       "    <tr>\n",
       "      <th>2</th>\n",
       "      <td>배 트맨</td>\n",
       "      <td>good day</td>\n",
       "    </tr>\n",
       "  </tbody>\n",
       "</table>\n",
       "</div>"
      ],
      "text/plain": [
       "     이름              댓글\n",
       "0  홍 길동       good luck\n",
       "1  마 징가  happy new year\n",
       "2  배 트맨        good day"
      ]
     },
     "execution_count": 3,
     "metadata": {},
     "output_type": "execute_result"
    }
   ],
   "source": [
    "## 댓글 컬럼의 내용을 모두 소문자로 변환\n",
    "# dataDF['댓글'].lower()      # <= Series에 문자열 관련 메서드 X\n",
    "dataDF['댓글'][0].lower()       # <= 원소 1개 선택 시 문자열. 문자열 관련 메서드 사용 O\n",
    "\n",
    "dataDF['댓글'].shape[0]\n",
    "for idx in range(dataDF['댓글'].shape[0]):\n",
    "    dataDF['댓글'][idx] = dataDF['댓글'][idx].lower()\n",
    "\n",
    "dataDF"
   ]
  },
  {
   "cell_type": "code",
   "execution_count": 4,
   "id": "ca64bbca",
   "metadata": {},
   "outputs": [
    {
     "name": "stderr",
     "output_type": "stream",
     "text": [
      "C:\\Users\\sante\\AppData\\Local\\Temp\\ipykernel_16128\\3390967442.py:5: FutureWarning: ChainedAssignmentError: behaviour will change in pandas 3.0!\n",
      "You are setting values through chained assignment. Currently this works in certain cases, but when using Copy-on-Write (which will become the default behaviour in pandas 3.0) this will never work to update the original DataFrame or Series, because the intermediate object on which we are setting values will behave as a copy.\n",
      "A typical example is when you are setting values in a column of a DataFrame, like:\n",
      "\n",
      "df[\"col\"][row_indexer] = value\n",
      "\n",
      "Use `df.loc[row_indexer, \"col\"] = values` instead, to perform the assignment in a single step and ensure this keeps updating the original `df`.\n",
      "\n",
      "See the caveats in the documentation: https://pandas.pydata.org/pandas-docs/stable/user_guide/indexing.html#returning-a-view-versus-a-copy\n",
      "\n",
      "  dataDF['댓글'][idx] = dataDF['댓글'][idx].lower()\n"
     ]
    },
    {
     "data": {
      "text/html": [
       "<div>\n",
       "<style scoped>\n",
       "    .dataframe tbody tr th:only-of-type {\n",
       "        vertical-align: middle;\n",
       "    }\n",
       "\n",
       "    .dataframe tbody tr th {\n",
       "        vertical-align: top;\n",
       "    }\n",
       "\n",
       "    .dataframe thead th {\n",
       "        text-align: right;\n",
       "    }\n",
       "</style>\n",
       "<table border=\"1\" class=\"dataframe\">\n",
       "  <thead>\n",
       "    <tr style=\"text-align: right;\">\n",
       "      <th></th>\n",
       "      <th>이름</th>\n",
       "      <th>댓글</th>\n",
       "    </tr>\n",
       "  </thead>\n",
       "  <tbody>\n",
       "    <tr>\n",
       "      <th>0</th>\n",
       "      <td>홍 길동</td>\n",
       "      <td>good luck</td>\n",
       "    </tr>\n",
       "    <tr>\n",
       "      <th>1</th>\n",
       "      <td>마 징가</td>\n",
       "      <td>happy new year</td>\n",
       "    </tr>\n",
       "    <tr>\n",
       "      <th>2</th>\n",
       "      <td>배 트맨</td>\n",
       "      <td>good day</td>\n",
       "    </tr>\n",
       "  </tbody>\n",
       "</table>\n",
       "</div>"
      ],
      "text/plain": [
       "     이름              댓글\n",
       "0  홍 길동       good luck\n",
       "1  마 징가  happy new year\n",
       "2  배 트맨        good day"
      ]
     },
     "metadata": {},
     "output_type": "display_data"
    },
    {
     "name": "stderr",
     "output_type": "stream",
     "text": [
      "C:\\Users\\sante\\AppData\\Local\\Temp\\ipykernel_16128\\3390967442.py:9: FutureWarning: ChainedAssignmentError: behaviour will change in pandas 3.0!\n",
      "You are setting values through chained assignment. Currently this works in certain cases, but when using Copy-on-Write (which will become the default behaviour in pandas 3.0) this will never work to update the original DataFrame or Series, because the intermediate object on which we are setting values will behave as a copy.\n",
      "A typical example is when you are setting values in a column of a DataFrame, like:\n",
      "\n",
      "df[\"col\"][row_indexer] = value\n",
      "\n",
      "Use `df.loc[row_indexer, \"col\"] = values` instead, to perform the assignment in a single step and ensure this keeps updating the original `df`.\n",
      "\n",
      "See the caveats in the documentation: https://pandas.pydata.org/pandas-docs/stable/user_guide/indexing.html#returning-a-view-versus-a-copy\n",
      "\n",
      "  dataDF['댓글'][idx] = dataDF['댓글'][idx].upper()\n"
     ]
    },
    {
     "data": {
      "text/html": [
       "<div>\n",
       "<style scoped>\n",
       "    .dataframe tbody tr th:only-of-type {\n",
       "        vertical-align: middle;\n",
       "    }\n",
       "\n",
       "    .dataframe tbody tr th {\n",
       "        vertical-align: top;\n",
       "    }\n",
       "\n",
       "    .dataframe thead th {\n",
       "        text-align: right;\n",
       "    }\n",
       "</style>\n",
       "<table border=\"1\" class=\"dataframe\">\n",
       "  <thead>\n",
       "    <tr style=\"text-align: right;\">\n",
       "      <th></th>\n",
       "      <th>이름</th>\n",
       "      <th>댓글</th>\n",
       "    </tr>\n",
       "  </thead>\n",
       "  <tbody>\n",
       "    <tr>\n",
       "      <th>0</th>\n",
       "      <td>홍 길동</td>\n",
       "      <td>GOOD LUCK</td>\n",
       "    </tr>\n",
       "    <tr>\n",
       "      <th>1</th>\n",
       "      <td>마 징가</td>\n",
       "      <td>HAPPY NEW YEAR</td>\n",
       "    </tr>\n",
       "    <tr>\n",
       "      <th>2</th>\n",
       "      <td>배 트맨</td>\n",
       "      <td>GOOD DAY</td>\n",
       "    </tr>\n",
       "  </tbody>\n",
       "</table>\n",
       "</div>"
      ],
      "text/plain": [
       "     이름              댓글\n",
       "0  홍 길동       GOOD LUCK\n",
       "1  마 징가  HAPPY NEW YEAR\n",
       "2  배 트맨        GOOD DAY"
      ]
     },
     "metadata": {},
     "output_type": "display_data"
    }
   ],
   "source": [
    "## 댓글 컬럼의 내용을 모두 소문자로 변환\n",
    "# dataDF['댓글'].lower()      # <= Series에 문자열 관련 메서드 X\n",
    "# dataDF['댓글'][0].lower()       # <= 원소 1개 선택 시 문자열. 문자열 관련 메서드 사용 O\n",
    "for idx in range(dataDF['댓글'].shape[0]):\n",
    "    dataDF['댓글'][idx] = dataDF['댓글'][idx].lower()\n",
    "display(dataDF)\n",
    "\n",
    "for idx in dataDF.index:\n",
    "    dataDF['댓글'][idx] = dataDF['댓글'][idx].upper()\n",
    "\n",
    "display(dataDF)"
   ]
  },
  {
   "cell_type": "markdown",
   "id": "56a2c23d",
   "metadata": {},
   "source": [
    "[1] Series.str 접근자: 문자열 관련 메서드들 제공 <hr>"
   ]
  },
  {
   "cell_type": "code",
   "execution_count": 5,
   "id": "7645fb78",
   "metadata": {},
   "outputs": [
    {
     "data": {
      "text/plain": [
       "0               Hello, World! \n",
       "1                Pandas_is_FUN\n",
       "2    email: user01@example.com\n",
       "3                         None\n",
       "dtype: object"
      ]
     },
     "metadata": {},
     "output_type": "display_data"
    },
    {
     "data": {
      "text/plain": [
       "RangeIndex(start=0, stop=4, step=1)"
      ]
     },
     "metadata": {},
     "output_type": "display_data"
    }
   ],
   "source": [
    "dataSR = pd.Series( [\" Hello, World! \",\n",
    "                    \"Pandas_is_FUN\",\n",
    "                    \"email: user01@example.com\",\n",
    "                    None\n",
    "])\n",
    "\n",
    "display(dataSR, dataSR.index)"
   ]
  },
  {
   "cell_type": "code",
   "execution_count": 6,
   "id": "c327b28f",
   "metadata": {},
   "outputs": [
    {
     "name": "stdout",
     "output_type": "stream",
     "text": [
      "0                Hello, World!\n",
      "1                Pandas_is_FUN\n",
      "2    email: user01@example.com\n",
      "3                         None\n",
      "dtype: object\n",
      "0                hello, world!\n",
      "1                pandas_is_fun\n",
      "2    email: user01@example.com\n",
      "3                         None\n",
      "dtype: object\n"
     ]
    }
   ],
   "source": [
    "## 1) 좌우 공백 제거 & 소문자화\n",
    "\n",
    "print(dataSR.str.strip())\n",
    "\n",
    "print(dataSR.str.strip().str.lower())"
   ]
  },
  {
   "cell_type": "code",
   "execution_count": 15,
   "id": "0f2ee106",
   "metadata": {},
   "outputs": [
    {
     "name": "stdout",
     "output_type": "stream",
     "text": [
      "0     True\n",
      "1    False\n",
      "2    False\n",
      "3    False\n",
      "dtype: bool\n",
      "0    -1.0\n",
      "1    10.0\n",
      "2    -1.0\n",
      "3     NaN\n",
      "dtype: float64\n"
     ]
    }
   ],
   "source": [
    "## 2) 포함 여부(boolean) / 위치 찾기\n",
    "## contains(): [True/False] / case: 대소문자 구분할 지 말지 / na: 결측치에 대한 처리를 True or False로 반환 \n",
    "print(dataSR.str.contains(\"world\", case=False, na=False))\n",
    "\n",
    "## find(): 문자열 안에서 제일 먼저 발견되는 인덱스 반환\n",
    "print(dataSR.str.find(\"FUN\"))                                   # 못찾으면 -1 / None인 데이터에 대하여 NaN 처리"
   ]
  },
  {
   "cell_type": "code",
   "execution_count": 8,
   "id": "c2e11fca",
   "metadata": {},
   "outputs": [
    {
     "name": "stdout",
     "output_type": "stream",
     "text": [
      "0     Hell\n",
      "1    Panda\n",
      "2    email\n",
      "3     None\n",
      "dtype: object\n",
      "0    15.0\n",
      "1    13.0\n",
      "2    25.0\n",
      "3     NaN\n",
      "dtype: float64\n"
     ]
    }
   ],
   "source": [
    "## 3) 부분 문자열 추출 (슬라이스) / 길이\n",
    "print(dataSR.str.slice(0, 5))       # 앞 5글자\n",
    "\n",
    "print(dataSR.str.len())             # 글자 수 (한글도 문자 1개로 셈)"
   ]
  },
  {
   "cell_type": "code",
   "execution_count": 9,
   "id": "6be1f417",
   "metadata": {},
   "outputs": [
    {
     "name": "stdout",
     "output_type": "stream",
     "text": [
      "0              [ Hello, World! ]\n",
      "1              [Pandas, is, FUN]\n",
      "2    [email: user01@example.com]\n",
      "3                           None\n",
      "dtype: object\n",
      "<class 'list'>\n",
      "                           0     1     2\n",
      "0             Hello, World!   None  None\n",
      "1                     Pandas    is   FUN\n",
      "2  email: user01@example.com  None  None\n",
      "3                       None  None  None\n",
      "<class 'pandas.core.frame.DataFrame'>\n"
     ]
    }
   ],
   "source": [
    "## 4) 구분자 분리 및 확장\n",
    "## 구분자 분리 -> List 담아서 반환: Series => Series\n",
    "print(dataSR.str.split(\"_\"))\n",
    "\n",
    "ret = dataSR.str.split(\"_\")\n",
    "print(type(ret[0]))     # ret[0]은 첫 번째 행의 리스트 전체\n",
    "\n",
    "## expand=True => DataFrame으로 확장: Series => DataFrame\n",
    "print(dataSR.str.split(\"_\", expand=True))\n",
    "\n",
    "ret = dataSR.str.split(\"_\", expand=True)\n",
    "print(type(ret))"
   ]
  },
  {
   "cell_type": "markdown",
   "id": "a47008b7",
   "metadata": {},
   "source": [
    "[3] Series.dt 접근자: 날짜/시간 관련 메서드들 <hr>"
   ]
  },
  {
   "cell_type": "code",
   "execution_count": 10,
   "id": "3e8bb5ec",
   "metadata": {},
   "outputs": [
    {
     "data": {
      "text/plain": [
       "0      2025-10-01 08:30\n",
       "1      2025/10/02 21:15\n",
       "2    Oct 03, 2025 06:00\n",
       "3                  None\n",
       "dtype: object"
      ]
     },
     "metadata": {},
     "output_type": "display_data"
    }
   ],
   "source": [
    "## Series 인스턴스 생성\n",
    "dateSR = pd.Series([\n",
    "    \"2025-10-01 08:30\",\n",
    "    \"2025/10/02 21:15\",\n",
    "    \"Oct 03, 2025 06:00\",\n",
    "    None\n",
    "])\n",
    "\n",
    "display(dateSR)"
   ]
  },
  {
   "cell_type": "code",
   "execution_count": 11,
   "id": "f0e08e29",
   "metadata": {},
   "outputs": [
    {
     "name": "stdout",
     "output_type": "stream",
     "text": [
      "0   2025-10-01 08:30:00\n",
      "1   2025-10-02 21:15:00\n",
      "2   2025-10-03 06:00:00\n",
      "3                   NaT\n",
      "dtype: datetime64[ns]\n"
     ]
    }
   ],
   "source": [
    "## 문자열 -> datetime 타입 변환\n",
    "## pd.to_datetime() 함수\n",
    "## - format: strftime()로 지정하거나 각각 다르면 mixed \n",
    "# \"2025-10-01 08:30\",\n",
    "# \"2025/10/02 21:15\",\n",
    "# \"Oct 03, 2025 06:00\",\n",
    "# None\n",
    "\n",
    "## - errors: 변환 실패 시 처리 방법 [가] raise ==> NaT\n",
    "tsSR = pd.to_datetime(dateSR, format='mixed', errors=\"coerce\")      # errors=\"coerce\" / parsing 실패는 NaT (Not a Datetime)\n",
    "print(tsSR)"
   ]
  },
  {
   "cell_type": "code",
   "execution_count": 12,
   "id": "e60c3abc",
   "metadata": {},
   "outputs": [
    {
     "name": "stdout",
     "output_type": "stream",
     "text": [
      "2025.0\n",
      "10.0\n",
      "1.0\n",
      "2.0\n",
      "Wednesday\n",
      "8.0\n"
     ]
    }
   ],
   "source": [
    "## 1) 구성요소 뽑기\n",
    "print(tsSR.dt.year[0])\n",
    "print(tsSR.dt.month[0])\n",
    "print(tsSR.dt.day[0])\n",
    "print(tsSR.dt.weekday[0])      # 0(월) ~ 6 (일)\n",
    "print(tsSR.dt.day_name()[0])   # 요일 이름\n",
    "print(tsSR.dt.hour[0])         # 시"
   ]
  },
  {
   "cell_type": "code",
   "execution_count": 13,
   "id": "feb9fd0c",
   "metadata": {},
   "outputs": [
    {
     "name": "stdout",
     "output_type": "stream",
     "text": [
      "2025/10/01 08:30\n"
     ]
    }
   ],
   "source": [
    "# 2) 형식 문자열로 출력\n",
    "print(tsSR.dt.strftime(\"%Y/%m/%d %H:%M\")[0])"
   ]
  },
  {
   "cell_type": "code",
   "execution_count": 14,
   "id": "4e847e90",
   "metadata": {},
   "outputs": [
    {
     "name": "stdout",
     "output_type": "stream",
     "text": [
      "0     True\n",
      "1    False\n",
      "2    False\n",
      "3    False\n",
      "dtype: bool\n",
      "0    False\n",
      "1    False\n",
      "2    False\n",
      "3    False\n",
      "dtype: bool\n"
     ]
    }
   ],
   "source": [
    "## 3) 시계열 성질 (월초/월말 등) boolean\n",
    "print(tsSR.dt.is_month_start)\n",
    "print(tsSR.dt.is_month_end)"
   ]
  }
 ],
 "metadata": {
  "kernelspec": {
   "display_name": "DATA_311",
   "language": "python",
   "name": "python3"
  },
  "language_info": {
   "codemirror_mode": {
    "name": "ipython",
    "version": 3
   },
   "file_extension": ".py",
   "mimetype": "text/x-python",
   "name": "python",
   "nbconvert_exporter": "python",
   "pygments_lexer": "ipython3",
   "version": "3.11.13"
  }
 },
 "nbformat": 4,
 "nbformat_minor": 5
}
