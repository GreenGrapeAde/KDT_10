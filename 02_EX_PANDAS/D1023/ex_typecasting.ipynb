{
 "cells": [
  {
   "cell_type": "markdown",
   "id": "536690fe",
   "metadata": {},
   "source": [
    "### [Pandas 자료형 변환]\n",
    "- 자료형: object(str, mixed), int64, float64, bool, datetime64[ns], categorical\n",
    "- 변환\n",
    "    * DF.astype(), SR.astype()\n",
    "    * to_numeric()\n",
    "    * to_datetime()"
   ]
  },
  {
   "cell_type": "code",
   "execution_count": 15,
   "id": "a9b1cee2",
   "metadata": {},
   "outputs": [],
   "source": [
    "import pandas as pd"
   ]
  },
  {
   "cell_type": "code",
   "execution_count": 16,
   "id": "5cc2fbfa",
   "metadata": {},
   "outputs": [
    {
     "name": "stdout",
     "output_type": "stream",
     "text": [
      "변환 전:\n",
      " age        object\n",
      "height    float64\n",
      "passed      int64\n",
      "name       object\n",
      "birth      object\n",
      "gender     object\n",
      "dtype: object\n"
     ]
    }
   ],
   "source": [
    "## DF 인스턴스 생성\n",
    "df = pd.DataFrame({\n",
    "    \"age\": [\"23\", \"45\", \"30\"],                              # 문자열\n",
    "    \"height\": [170.5, 180.2, 160.3],                        # 실수\n",
    "    \"passed\": [1, 0, 1],                                    # 정수 (0/1)\n",
    "    \"name\": [\"Ann\", \"Hong\", \"Lee\"],                         # 문자열\n",
    "    \"birth\": [\"2025-10-01\", \"2000-01-01\", \"2005-12-24\"],    # 문자열 날짜\n",
    "    \"gender\": [\"F\", \"M\", \"F\"]                               # 문자열\n",
    "})\n",
    "\n",
    "print(\"변환 전:\\n\", df.dtypes)\n"
   ]
  },
  {
   "cell_type": "code",
   "execution_count": 17,
   "id": "d36e7e5a",
   "metadata": {},
   "outputs": [
    {
     "name": "stdout",
     "output_type": "stream",
     "text": [
      "변환 확인: int64\n"
     ]
    }
   ],
   "source": [
    "## ---------------------------------------------------------\n",
    "## 데이터가 가진 의미에 따라 타입 변환\n",
    "## ---------------------------------------------------------\n",
    "\n",
    "## 나이: object ==> int\n",
    "df[\"age\"] = df[\"age\"].astype(int)       ## inplace 매개변수 X, 반드시 저장 필요!\n",
    "\n",
    "print(\"변환 확인:\", df.age.dtype)"
   ]
  },
  {
   "cell_type": "code",
   "execution_count": 18,
   "id": "9ae9bb73",
   "metadata": {},
   "outputs": [
    {
     "name": "stdout",
     "output_type": "stream",
     "text": [
      "변환 확인: category\n"
     ]
    }
   ],
   "source": [
    "## 합격여부 (passed): int ==> category\n",
    "\n",
    "df[\"passed\"] = df[\"passed\"].astype(\"category\")       ## 범주형 타입으로 변환\n",
    "\n",
    "print(\"변환 확인:\", df['passed'].dtype)"
   ]
  },
  {
   "cell_type": "code",
   "execution_count": 19,
   "id": "d0da65a7",
   "metadata": {},
   "outputs": [
    {
     "name": "stdout",
     "output_type": "stream",
     "text": [
      "변환 확인: string\n"
     ]
    }
   ],
   "source": [
    "## 이름: object ==> string\n",
    "df[\"name\"] = df[\"name\"].astype(\"string\")       ## 범주형 타입으로 변환\n",
    "\n",
    "print(\"변환 확인:\", df['name'].dtype)"
   ]
  },
  {
   "cell_type": "code",
   "execution_count": 14,
   "id": "26e5daff",
   "metadata": {},
   "outputs": [
    {
     "name": "stdout",
     "output_type": "stream",
     "text": [
      "변환 확인: datetime64[ns]\n"
     ]
    }
   ],
   "source": [
    "## 생일: object ==> datetime64[ns]\n",
    "\n",
    "# df[\"birth\"] = df[\"birth\"].astype(\"datetime64[ns]\")       ## 범주형 타입으로 변환\n",
    "pd.to_datetime(df[\"birth\"])\n",
    "print(\"변환 확인:\", df['birth'].dtype)"
   ]
  },
  {
   "cell_type": "code",
   "execution_count": 21,
   "id": "66ddaa28",
   "metadata": {},
   "outputs": [
    {
     "name": "stdout",
     "output_type": "stream",
     "text": [
      "변환 확인: category\n",
      "age                int64\n",
      "height           float64\n",
      "passed          category\n",
      "name      string[python]\n",
      "birth             object\n",
      "gender          category\n",
      "dtype: object\n"
     ]
    }
   ],
   "source": [
    "## 성별: object ==> category\n",
    "df[\"gender\"] = df[\"gender\"].astype(\"category\")       ## 범주형 타입으로 변환\n",
    "\n",
    "print(\"변환 확인:\", df['gender'].dtype)\n",
    "\n",
    "## 전체 확인\n",
    "print(df.dtypes)"
   ]
  }
 ],
 "metadata": {
  "kernelspec": {
   "display_name": "DATA_311",
   "language": "python",
   "name": "python3"
  },
  "language_info": {
   "codemirror_mode": {
    "name": "ipython",
    "version": 3
   },
   "file_extension": ".py",
   "mimetype": "text/x-python",
   "name": "python",
   "nbconvert_exporter": "python",
   "pygments_lexer": "ipython3",
   "version": "3.11.13"
  }
 },
 "nbformat": 4,
 "nbformat_minor": 5
}
