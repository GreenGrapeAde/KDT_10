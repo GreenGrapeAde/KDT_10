{
 "cells": [
  {
   "cell_type": "markdown",
   "id": "63f250d3",
   "metadata": {},
   "source": [
    "#### 【데이터 전처리 - 표준화】\n",
    "- 다양한 데이터 수집 시 각각 다른 형태/포맷으로 수집이 되는 경우 발생\n",
    "- 데이터 단위 불일치 / 자료형 불일치 / 컬럼별 데이터의 범위차이 큰 경우\n",
    "- 분석을 용이하게 하기 위해서 일치 필요\n",
    "- 단위 변환 / 자료형 변환 / 스케일링"
   ]
  },
  {
   "cell_type": "code",
   "execution_count": 61,
   "id": "b7d85786",
   "metadata": {},
   "outputs": [
    {
     "name": "stdout",
     "output_type": "stream",
     "text": [
      "    mpg cylinders  displacement horsepower  weight  acceleration model year  \\\n",
      "0  18.0         8         307.0       보통출력    3504          12.0         70   \n",
      "1  15.0         8         350.0       보통출력    3693          11.5         70   \n",
      "\n",
      "  origin                   car name    kpl  \n",
      "0      1  chevrolet chevelle malibu  7.650  \n",
      "1      1          buick skylark 320  6.375  \n"
     ]
    }
   ],
   "source": [
    "import pandas as pd\n",
    "import numpy as np\n",
    "\n",
    "# 1. 데이터 로드\n",
    "DATA_FILE = '../Data/auto_mpg.csv'\n",
    "mpgDF = pd.read_csv(DATA_FILE)\n",
    "mpgDF2 = mpgDF.copy()\n",
    "\n",
    "# 2. 결측치 및 이상값 처리\n",
    "mpgDF2['horsepower'] = mpgDF2['horsepower'].replace(\"?\", np.nan)\n",
    "mpgDF2.dropna(inplace=True)\n",
    "\n",
    "# 3. horsepower를 숫자형으로 변환\n",
    "mpgDF2['horsepower'] = pd.to_numeric(mpgDF2['horsepower'], errors='coerce')\n",
    "\n",
    "# 4. 결측치 평균으로 채우기 (혹시 남아있을 경우)\n",
    "mpgDF2['horsepower'] = mpgDF2['horsepower'].fillna(mpgDF2['horsepower'].mean())\n",
    "\n",
    "# ✅ 이제 나머지 자료형 변환\n",
    "cols = ['cylinders', 'model year', 'origin']\n",
    "types = ['category', 'category', 'category']\n",
    "\n",
    "for col, dtype in zip(cols, types):\n",
    "    mpgDF2[col] = mpgDF2[col].astype(dtype)\n",
    "\n",
    "# 5. 단위 변환 (mpg → kpl)\n",
    "mpgDF2['kpl'] = mpgDF2['mpg'] * 0.425\n",
    "\n",
    "# 6. 구간 분할 (horsepower 범주화)\n",
    "outSR, retbins = pd.cut(\n",
    "    mpgDF2['horsepower'],\n",
    "    3,\n",
    "    right=False,\n",
    "    include_lowest=True,\n",
    "    retbins=True,\n",
    "    labels=['저출력', '보통출력', '고출력']\n",
    ")\n",
    "\n",
    "mpgDF2['horsepower'] = outSR\n",
    "\n",
    "print(mpgDF2.head(2))\n",
    "\n",
    "## origin 컬럼의 수치값 ==> 글자값 변경\n",
    "mpgDF2.origin = mpgDF2.origin.cat.rename_categories({1:'USA', 2:'JPN', 3:'EU'})\n"
   ]
  },
  {
   "cell_type": "code",
   "execution_count": 60,
   "id": "c26c07bb",
   "metadata": {},
   "outputs": [
    {
     "data": {
      "text/html": [
       "<div>\n",
       "<style scoped>\n",
       "    .dataframe tbody tr th:only-of-type {\n",
       "        vertical-align: middle;\n",
       "    }\n",
       "\n",
       "    .dataframe tbody tr th {\n",
       "        vertical-align: top;\n",
       "    }\n",
       "\n",
       "    .dataframe thead th {\n",
       "        text-align: right;\n",
       "    }\n",
       "</style>\n",
       "<table border=\"1\" class=\"dataframe\">\n",
       "  <thead>\n",
       "    <tr style=\"text-align: right;\">\n",
       "      <th></th>\n",
       "      <th>mpg</th>\n",
       "      <th>cylinders</th>\n",
       "      <th>displacement</th>\n",
       "      <th>horsepower</th>\n",
       "      <th>weight</th>\n",
       "      <th>acceleration</th>\n",
       "      <th>model year</th>\n",
       "      <th>origin</th>\n",
       "      <th>car name</th>\n",
       "      <th>kpl</th>\n",
       "    </tr>\n",
       "  </thead>\n",
       "  <tbody>\n",
       "    <tr>\n",
       "      <th>0</th>\n",
       "      <td>18.0</td>\n",
       "      <td>8</td>\n",
       "      <td>307.0</td>\n",
       "      <td>보통출력</td>\n",
       "      <td>3504</td>\n",
       "      <td>12.0</td>\n",
       "      <td>70</td>\n",
       "      <td>USA</td>\n",
       "      <td>chevrolet chevelle malibu</td>\n",
       "      <td>7.650</td>\n",
       "    </tr>\n",
       "    <tr>\n",
       "      <th>1</th>\n",
       "      <td>15.0</td>\n",
       "      <td>8</td>\n",
       "      <td>350.0</td>\n",
       "      <td>보통출력</td>\n",
       "      <td>3693</td>\n",
       "      <td>11.5</td>\n",
       "      <td>70</td>\n",
       "      <td>USA</td>\n",
       "      <td>buick skylark 320</td>\n",
       "      <td>6.375</td>\n",
       "    </tr>\n",
       "    <tr>\n",
       "      <th>2</th>\n",
       "      <td>18.0</td>\n",
       "      <td>8</td>\n",
       "      <td>318.0</td>\n",
       "      <td>보통출력</td>\n",
       "      <td>3436</td>\n",
       "      <td>11.0</td>\n",
       "      <td>70</td>\n",
       "      <td>USA</td>\n",
       "      <td>plymouth satellite</td>\n",
       "      <td>7.650</td>\n",
       "    </tr>\n",
       "  </tbody>\n",
       "</table>\n",
       "</div>"
      ],
      "text/plain": [
       "    mpg cylinders  displacement horsepower  weight  acceleration model year  \\\n",
       "0  18.0         8         307.0       보통출력    3504          12.0         70   \n",
       "1  15.0         8         350.0       보통출력    3693          11.5         70   \n",
       "2  18.0         8         318.0       보통출력    3436          11.0         70   \n",
       "\n",
       "  origin                   car name    kpl  \n",
       "0    USA  chevrolet chevelle malibu  7.650  \n",
       "1    USA          buick skylark 320  6.375  \n",
       "2    USA         plymouth satellite  7.650  "
      ]
     },
     "execution_count": 60,
     "metadata": {},
     "output_type": "execute_result"
    }
   ],
   "source": [
    "mpgDF2.head(3)"
   ]
  }
 ],
 "metadata": {
  "kernelspec": {
   "display_name": "DATA_311",
   "language": "python",
   "name": "python3"
  },
  "language_info": {
   "codemirror_mode": {
    "name": "ipython",
    "version": 3
   },
   "file_extension": ".py",
   "mimetype": "text/x-python",
   "name": "python",
   "nbconvert_exporter": "python",
   "pygments_lexer": "ipython3",
   "version": "3.11.13"
  }
 },
 "nbformat": 4,
 "nbformat_minor": 5
}
