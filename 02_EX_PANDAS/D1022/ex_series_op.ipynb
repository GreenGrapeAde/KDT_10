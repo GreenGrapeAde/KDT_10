{
 "cells": [
  {
   "cell_type": "markdown",
   "id": "edb04c68",
   "metadata": {},
   "source": [
    "### 【Series 연산】<hr>\n",
    "- 종류\n",
    "    * Series 객체와 숫자 연산\n",
    "    * Series 객체와 Series 객체 연산\n",
    "    * Series 객체의 연산 메서드"
   ]
  },
  {
   "cell_type": "markdown",
   "id": "254f9526",
   "metadata": {},
   "source": [
    "[1] 모듈 로딩 및 데이터 준비 <hr>"
   ]
  },
  {
   "cell_type": "code",
   "execution_count": 34,
   "id": "e8aabd0a",
   "metadata": {},
   "outputs": [],
   "source": [
    "## 모듈로딩\n",
    "import pandas as pd"
   ]
  },
  {
   "cell_type": "code",
   "execution_count": 35,
   "id": "b70b8ed4",
   "metadata": {},
   "outputs": [
    {
     "data": {
      "text/plain": [
       "0    10\n",
       "1    20\n",
       "2    30\n",
       "dtype: int64"
      ]
     },
     "execution_count": 35,
     "metadata": {},
     "output_type": "execute_result"
    }
   ],
   "source": [
    "## 데이터프레임 생성\n",
    "dataSR = pd.Series([10, 20, 30])\n",
    "dataSR"
   ]
  },
  {
   "cell_type": "markdown",
   "id": "799459ba",
   "metadata": {},
   "source": [
    "[2] Series와 숫자 연산 <hr>"
   ]
  },
  {
   "cell_type": "code",
   "execution_count": 36,
   "id": "8e5a9c80",
   "metadata": {},
   "outputs": [
    {
     "name": "stdout",
     "output_type": "stream",
     "text": [
      "dataSR + 17 =>\n",
      "0    27\n",
      "1    37\n",
      "2    47\n",
      "dtype: int64\n",
      "dataSR - 17 =>\n",
      "0    -7\n",
      "1     3\n",
      "2    13\n",
      "dtype: int64\n",
      "dataSR * 17 =>\n",
      "0    170\n",
      "1    340\n",
      "2    510\n",
      "dtype: int64\n",
      "dataSR / 17 =>\n",
      "0    0.588235\n",
      "1    1.176471\n",
      "2    1.764706\n",
      "dtype: float64\n",
      "dataSR % 17 =>\n",
      "0    10\n",
      "1     3\n",
      "2    13\n",
      "dtype: int64\n"
     ]
    }
   ],
   "source": [
    "## 원소 단위로 각각 계산 진행 ==> 결과: Series\n",
    "ret1 = dataSR + 17\n",
    "ret2 = dataSR - 17\n",
    "ret3 = dataSR * 17\n",
    "ret4 = dataSR / 17\n",
    "ret5 = dataSR % 17\n",
    "\n",
    "print(f'dataSR + 17 =>\\n{ret1}')\n",
    "print(f'dataSR - 17 =>\\n{ret2}')\n",
    "print(f'dataSR * 17 =>\\n{ret3}')\n",
    "print(f'dataSR / 17 =>\\n{ret4}')\n",
    "print(f'dataSR % 17 =>\\n{ret5}')"
   ]
  },
  {
   "cell_type": "markdown",
   "id": "e7797628",
   "metadata": {},
   "source": [
    "[3] Series와 Series 연산 <hr>\n",
    "- 동일 인덱스 원소끼리 연산 수행"
   ]
  },
  {
   "cell_type": "code",
   "execution_count": 37,
   "id": "f664dae0",
   "metadata": {},
   "outputs": [],
   "source": [
    "## 새로운 Series 객체 생성\n",
    "dataSR2 = pd.Series([5, 8, 2])\n",
    "dataSR3 = pd.Series([10, 3, 9], index=[0, 2, 3])"
   ]
  },
  {
   "cell_type": "code",
   "execution_count": 38,
   "id": "0ed655af",
   "metadata": {},
   "outputs": [
    {
     "name": "stdout",
     "output_type": "stream",
     "text": [
      "dataSR + dataSR2 =>\n",
      "0    15\n",
      "1    28\n",
      "2    32\n",
      "dtype: int64\n",
      "dataSR - dataSR2 =>\n",
      "0     5\n",
      "1    12\n",
      "2    28\n",
      "dtype: int64\n",
      "dataSR * dataSR2 =>\n",
      "0     50\n",
      "1    160\n",
      "2     60\n",
      "dtype: int64\n",
      "dataSR / dataSR2 =>\n",
      "0     2.0\n",
      "1     2.5\n",
      "2    15.0\n",
      "dtype: float64\n",
      "dataSR % dataSR2 =>\n",
      "0    0\n",
      "1    4\n",
      "2    0\n",
      "dtype: int64\n"
     ]
    }
   ],
   "source": [
    "## => dataSR + dataSR2 연산\n",
    "ret1 = dataSR + dataSR2\n",
    "ret2 = dataSR - dataSR2\n",
    "ret3 = dataSR * dataSR2\n",
    "ret4 = dataSR / dataSR2\n",
    "ret5 = dataSR % dataSR2\n",
    "\n",
    "print(f'dataSR + dataSR2 =>\\n{ret1}')\n",
    "print(f'dataSR - dataSR2 =>\\n{ret2}')\n",
    "print(f'dataSR * dataSR2 =>\\n{ret3}')\n",
    "print(f'dataSR / dataSR2 =>\\n{ret4}')\n",
    "print(f'dataSR % dataSR2 =>\\n{ret5}')"
   ]
  },
  {
   "cell_type": "code",
   "execution_count": 45,
   "id": "50c18bcd",
   "metadata": {},
   "outputs": [
    {
     "name": "stdout",
     "output_type": "stream",
     "text": [
      "dataSR + dataSR3 =>\n",
      "0    20.0\n",
      "1     NaN\n",
      "2    33.0\n",
      "3     NaN\n",
      "dtype: float64\n",
      "dataSR - dataSR3 =>\n",
      "0     0.0\n",
      "1     NaN\n",
      "2    27.0\n",
      "3     NaN\n",
      "dtype: float64\n",
      "dataSR * dataSR3 =>\n",
      "0    100.0\n",
      "1      NaN\n",
      "2     90.0\n",
      "3      NaN\n",
      "dtype: float64\n",
      "dataSR / dataSR3 =>\n",
      "0     1.0\n",
      "1     NaN\n",
      "2    10.0\n",
      "3     NaN\n",
      "dtype: float64\n",
      "dataSR % dataSR3 =>\n",
      "0    0.0\n",
      "1    NaN\n",
      "2    0.0\n",
      "3    NaN\n",
      "dtype: float64\n"
     ]
    }
   ],
   "source": [
    "## => dataSR + dataSR3 연산\n",
    "## Index: [0, 1, 2] / [0, 2, 3]\n",
    "##         10 20 30    10 3  9\n",
    "## 일치하는 인덱스 끼리 연산을 수행한다\n",
    "ret1 = dataSR + dataSR3\n",
    "ret2 = dataSR - dataSR3\n",
    "ret3 = dataSR * dataSR3\n",
    "ret4 = dataSR / dataSR3\n",
    "ret5 = dataSR % dataSR3\n",
    "\n",
    "print(f'dataSR + dataSR3 =>\\n{ret1}')\n",
    "print(f'dataSR - dataSR3 =>\\n{ret2}')\n",
    "print(f'dataSR * dataSR3 =>\\n{ret3}')\n",
    "print(f'dataSR / dataSR3 =>\\n{ret4}')\n",
    "print(f'dataSR % dataSR3 =>\\n{ret5}')"
   ]
  },
  {
   "cell_type": "markdown",
   "id": "dac068d3",
   "metadata": {},
   "source": [
    "### [4] Series와 연산 메서드 <hr>"
   ]
  },
  {
   "cell_type": "code",
   "execution_count": 48,
   "id": "226323b6",
   "metadata": {},
   "outputs": [
    {
     "name": "stdout",
     "output_type": "stream",
     "text": [
      "dataSR + dataSR3 =>\n",
      "0    20.0\n",
      "1    20.0\n",
      "2    33.0\n",
      "3     9.0\n",
      "dtype: float64\n",
      "dataSR - dataSR3 =>\n",
      "0     0.0\n",
      "1    20.0\n",
      "2    27.0\n",
      "3    -9.0\n",
      "dtype: float64\n",
      "dataSR * dataSR3 =>\n",
      "0    100.0\n",
      "1      0.0\n",
      "2     90.0\n",
      "3      0.0\n",
      "dtype: float64\n",
      "dataSR / dataSR3 =>\n",
      "0     1.0\n",
      "1     inf\n",
      "2    10.0\n",
      "3     0.0\n",
      "dtype: float64\n",
      "dataSR % dataSR3 =>\n",
      "0    0.0\n",
      "1    NaN\n",
      "2    0.0\n",
      "3    0.0\n",
      "dtype: float64\n"
     ]
    }
   ],
   "source": [
    "## 인덱스가 같은 원소 없을 때 계산 불가 ==> 해결: fill_value 매개변수\n",
    "ret1 = dataSR.add(dataSR3, fill_value=0)\n",
    "ret2 = dataSR.sub(dataSR3, fill_value=0)\n",
    "ret3 = dataSR.mul(dataSR3, fill_value=0)\n",
    "ret4 = dataSR.div(dataSR3, fill_value=0)\n",
    "ret5 = dataSR.mod(dataSR3, fill_value=0)\n",
    "\n",
    "print(f'dataSR + dataSR3 =>\\n{ret1}')\n",
    "print(f'dataSR - dataSR3 =>\\n{ret2}')\n",
    "print(f'dataSR * dataSR3 =>\\n{ret3}')\n",
    "print(f'dataSR / dataSR3 =>\\n{ret4}')\n",
    "print(f'dataSR % dataSR3 =>\\n{ret5}')"
   ]
  }
 ],
 "metadata": {
  "kernelspec": {
   "display_name": "DATA_311",
   "language": "python",
   "name": "python3"
  },
  "language_info": {
   "codemirror_mode": {
    "name": "ipython",
    "version": 3
   },
   "file_extension": ".py",
   "mimetype": "text/x-python",
   "name": "python",
   "nbconvert_exporter": "python",
   "pygments_lexer": "ipython3",
   "version": "3.11.13"
  }
 },
 "nbformat": 4,
 "nbformat_minor": 5
}
